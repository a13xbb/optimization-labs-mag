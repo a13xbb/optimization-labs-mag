{
 "cells": [
  {
   "cell_type": "markdown",
   "id": "466bb1bc",
   "metadata": {},
   "source": [
    "# Barrier method"
   ]
  },
  {
   "cell_type": "markdown",
   "id": "f8c5f808",
   "metadata": {},
   "source": [
    "<i>minimize</i> $f(x)=-\\sum_{i=1}^{n}log(x_i)$ <br>\n",
    "<i>subject to</i> $Ax=b$ <br>\n",
    "<i>additional constraints:</i> $x\\geq{0}$ <br>"
   ]
  },
  {
   "cell_type": "markdown",
   "id": "4c56988f",
   "metadata": {},
   "source": [
    "Введем логарифмический барьер: <br>\n",
    "$x\\geq{0} ⇒ f_i(x)=1-x_i\\leq{0}$ <br>\n",
    "$\\phi(x)=-\\frac{1}{t}\\sum_{i=1}^{m}log(-f_i(x))=-\\frac{1}{t}\\sum_{i=1}^{m}log(x_i-1)$"
   ]
  },
  {
   "cell_type": "markdown",
   "id": "fcc2cc70",
   "metadata": {},
   "source": [
    "Новая задача:\n",
    "<i>minimize</i> $f_b(x)=-\\sum_{i=1}^{n}log(x_i)-\\frac{1}{t}\\sum_{i=1}^{m}log(x_i-1)$ <br>\n",
    "<i>subject to</i> $Ax=b$ <br>"
   ]
  },
  {
   "cell_type": "markdown",
   "id": "5383b033",
   "metadata": {},
   "source": [
    "$f(x)$ и $\\phi(x)$ являются выпуклыми как суммы выпуклых функций, аналогично $f_b(x) = f(x)+\\phi(x)$ является выпуклой при фиксированном $t>0$. Ограничение $Ax=b$ задаёт аффинное множество, которое всегда является выпуклым. Таким образом, задача является **выпуклой**."
   ]
  }
 ],
 "metadata": {
  "kernelspec": {
   "display_name": "Python 3",
   "language": "python",
   "name": "python3"
  },
  "language_info": {
   "name": "python",
   "version": "3.8.10"
  }
 },
 "nbformat": 4,
 "nbformat_minor": 5
}
