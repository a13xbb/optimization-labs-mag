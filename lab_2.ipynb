{
 "cells": [
  {
   "cell_type": "code",
   "execution_count": 1,
   "metadata": {},
   "outputs": [],
   "source": [
    "import numpy as np\n",
    "from sklearn.datasets import make_spd_matrix\n",
    "import cvxpy as cp\n",
    "import time\n",
    "import pandas as pd\n",
    "import matplotlib.pyplot as plt"
   ]
  },
  {
   "cell_type": "code",
   "execution_count": 2,
   "metadata": {},
   "outputs": [],
   "source": [
    "np.random.seed(42)"
   ]
  },
  {
   "cell_type": "code",
   "execution_count": null,
   "metadata": {},
   "outputs": [],
   "source": [
    "def quadform_grad(A, x, mu):  # Complexity of 1st oracle is n + n^2\n",
    "    return A @ (x - mu) * 2"
   ]
  },
  {
   "cell_type": "code",
   "execution_count": null,
   "metadata": {},
   "outputs": [],
   "source": [
    "def atom_quadform_grad(A, x, mu, i):\n",
    "    return np.dot(A[:, i], x - mu) * 2"
   ]
  },
  {
   "cell_type": "code",
   "execution_count": null,
   "metadata": {},
   "outputs": [],
   "source": [
    "def constraint_grad(x):\n",
    "    return 2 * x"
   ]
  },
  {
   "cell_type": "code",
   "execution_count": null,
   "metadata": {},
   "outputs": [],
   "source": [
    "def project_to_constraint(x):\n",
    "    x_norm = np.linalg.norm(x)\n",
    "    return x if x_norm <= 1 else x / x_norm"
   ]
  },
  {
   "cell_type": "code",
   "execution_count": null,
   "metadata": {},
   "outputs": [],
   "source": [
    "def is_kkt_optimal(grad_obj, grad_constraint, eps=0.01):\n",
    "\n",
    "    dot = np.dot(-grad_obj, grad_constraint)\n",
    "    norm_f = np.linalg.norm(grad_obj)\n",
    "    norm_g = np.linalg.norm(grad_constraint)\n",
    "    if norm_f < eps or norm_g < eps:\n",
    "        return True\n",
    "    cos_angle = dot / (norm_f * norm_g)\n",
    "\n",
    "    return bool((np.abs(cos_angle - 1) < eps).all())"
   ]
  },
  {
   "cell_type": "code",
   "execution_count": null,
   "metadata": {},
   "outputs": [],
   "source": [
    "def solve_elipsoid(A, mu):\n",
    "\n",
    "    x = cp.Variable(A.shape[0])\n",
    "\n",
    "    objective = cp.Minimize(cp.quad_form(x - mu, A))\n",
    "\n",
    "    constraints = [cp.norm2(x) <= 1]\n",
    "\n",
    "    prob = cp.Problem(objective, constraints)\n",
    "\n",
    "    result = prob.solve()\n",
    "\n",
    "    return x.value, result"
   ]
  },
  {
   "cell_type": "code",
   "execution_count": null,
   "metadata": {},
   "outputs": [],
   "source": [
    "def str_cvx_gd_solve_elipsoid(\n",
    "    A, mu, x_init, f_star, eps=0.01, max_iters=10000, return_history=False\n",
    "):\n",
    "\n",
    "    alpha = np.min(np.linalg.eigvals(A * 2))\n",
    "\n",
    "    lr = 2 / alpha\n",
    "\n",
    "    x = x_init.copy()\n",
    "\n",
    "    iterations = 0\n",
    "    operations = 0\n",
    "\n",
    "    precision_history = [(x - mu).T @ A @ (x - mu) - f_star]\n",
    "\n",
    "    while iterations < max_iters:\n",
    "\n",
    "        grad = quadform_grad(A, x, mu)\n",
    "        x_new = project_to_constraint(x - lr / (iterations + 1) * grad)\n",
    "        f_val = (x_new - mu).T @ A @ (x_new - mu)\n",
    "\n",
    "        x = x_new\n",
    "        iterations += 1\n",
    "\n",
    "        precision_history.append(abs(f_val - f_star))\n",
    "\n",
    "        if abs(f_val - f_star) <= eps:\n",
    "            break\n",
    "\n",
    "    if return_history:\n",
    "        return x_new, iterations, f_val, precision_history\n",
    "\n",
    "    return x_new, f_val, iterations, operations"
   ]
  },
  {
   "cell_type": "code",
   "execution_count": null,
   "metadata": {},
   "outputs": [],
   "source": [
    "def str_cvx_sgd_solve_elipsoid(\n",
    "    A,\n",
    "    mu,\n",
    "    x_init,\n",
    "    f_star,\n",
    "    dim_sample_ratio=\"single\", # MAY BE FLOAT in (0, 1]\n",
    "    eps=0.01,\n",
    "    max_iters=10000,\n",
    "    return_history=False,\n",
    "):\n",
    "\n",
    "    n_dims = len(mu)\n",
    "\n",
    "    if dim_sample_ratio == \"single\":\n",
    "        m_dims = 1\n",
    "\n",
    "    else:\n",
    "        m_dims = int(dim_sample_ratio * n_dims)\n",
    "\n",
    "    dim_sample_ratio = m_dims/n_dims\n",
    "\n",
    "    alpha = np.min(np.linalg.eigvals(A * 2))\n",
    "\n",
    "    lr = 2 / (alpha*dim_sample_ratio)\n",
    "\n",
    "    x_new = x_init.copy()\n",
    "\n",
    "    iterations = 0\n",
    "    operations = 0\n",
    "\n",
    "    precision_history = [(x - mu).T @ A @ (x - mu) - f_star]\n",
    "\n",
    "    while iterations < max_iters:\n",
    "\n",
    "        step_lr = lr / (iterations + 1)\n",
    "\n",
    "        sampled_dims = np.random.choice(n_dims, size=m_dims, replace=False)\n",
    "\n",
    "        for i in sampled_dims:\n",
    "            x_new[i] -= step_lr * atom_quadform_grad(A, x_new, mu, i)\n",
    "\n",
    "        x_new = project_to_constraint(x_new)\n",
    "\n",
    "        f_val = (x_new - mu).T @ A @ (x_new - mu)\n",
    "\n",
    "        x = x_new\n",
    "        iterations += 1\n",
    "\n",
    "        precision_history.append(abs(f_val - f_star))\n",
    "\n",
    "        if abs(f_val - f_star) <= eps:\n",
    "            break\n",
    "\n",
    "    if return_history:\n",
    "        return x_new, iterations, f_val, precision_history\n",
    "\n",
    "    return x_new, f_val, iterations, operations"
   ]
  },
  {
   "cell_type": "code",
   "execution_count": null,
   "metadata": {},
   "outputs": [],
   "source": []
  }
 ],
 "metadata": {
  "kernelspec": {
   "display_name": ".venv",
   "language": "python",
   "name": "python3"
  },
  "language_info": {
   "codemirror_mode": {
    "name": "ipython",
    "version": 3
   },
   "file_extension": ".py",
   "mimetype": "text/x-python",
   "name": "python",
   "nbconvert_exporter": "python",
   "pygments_lexer": "ipython3",
   "version": "3.12.3"
  }
 },
 "nbformat": 4,
 "nbformat_minor": 2
}
