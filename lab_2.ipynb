{
 "cells": [
  {
   "cell_type": "code",
   "execution_count": 2,
   "metadata": {},
   "outputs": [],
   "source": [
    "import numpy as np\n",
    "from sklearn.datasets import make_spd_matrix\n",
    "import cvxpy as cp\n",
    "import time\n",
    "import pandas as pd\n",
    "import matplotlib.pyplot as plt"
   ]
  },
  {
   "cell_type": "code",
   "execution_count": 3,
   "metadata": {},
   "outputs": [],
   "source": [
    "np.random.seed(42)"
   ]
  },
  {
   "cell_type": "code",
   "execution_count": 4,
   "metadata": {},
   "outputs": [],
   "source": [
    "def quadform_grad(A, x, mu):  # Complexity of 1st oracle is n + n^2\n",
    "    return A @ (x - mu) * 2"
   ]
  },
  {
   "cell_type": "code",
   "execution_count": 5,
   "metadata": {},
   "outputs": [],
   "source": [
    "def atom_quadform_grad(A, x, mu, i):\n",
    "    return np.dot(A[:, i], x - mu) * 2"
   ]
  },
  {
   "cell_type": "code",
   "execution_count": 6,
   "metadata": {},
   "outputs": [],
   "source": [
    "def constraint_grad(x):\n",
    "    return 2 * x"
   ]
  },
  {
   "cell_type": "code",
   "execution_count": 7,
   "metadata": {},
   "outputs": [],
   "source": [
    "def project_to_constraint(x):\n",
    "    x_norm = np.linalg.norm(x)\n",
    "    return x if x_norm <= 1 else x / x_norm"
   ]
  },
  {
   "cell_type": "code",
   "execution_count": 8,
   "metadata": {},
   "outputs": [],
   "source": [
    "def is_kkt_optimal(grad_obj, grad_constraint, eps=0.01):\n",
    "\n",
    "    dot = np.dot(-grad_obj, grad_constraint)\n",
    "    norm_f = np.linalg.norm(grad_obj)\n",
    "    norm_g = np.linalg.norm(grad_constraint)\n",
    "    if norm_f < eps or norm_g < eps:\n",
    "        return True\n",
    "    cos_angle = dot / (norm_f * norm_g)\n",
    "\n",
    "    return bool((np.abs(cos_angle - 1) < eps).all())"
   ]
  },
  {
   "cell_type": "code",
   "execution_count": 9,
   "metadata": {},
   "outputs": [],
   "source": [
    "def solve_elipsoid(A, mu):\n",
    "\n",
    "    x = cp.Variable(A.shape[0])\n",
    "\n",
    "    objective = cp.Minimize(cp.quad_form(x - mu, A))\n",
    "\n",
    "    constraints = [cp.norm2(x) <= 1]\n",
    "\n",
    "    prob = cp.Problem(objective, constraints)\n",
    "\n",
    "    result = prob.solve()\n",
    "\n",
    "    return x.value, result"
   ]
  },
  {
   "cell_type": "code",
   "execution_count": 10,
   "metadata": {},
   "outputs": [],
   "source": [
    "def str_cvx_gd_solve_elipsoid(\n",
    "    A, mu, x_init, f_star, eps=0.01, max_iters=10000, return_history=False\n",
    "):\n",
    "\n",
    "    alpha = np.min(np.linalg.eigvals(A * 2))\n",
    "\n",
    "    lr = 2 / alpha\n",
    "\n",
    "    x = x_init.copy()\n",
    "\n",
    "    iterations = 0\n",
    "    operations = 0\n",
    "\n",
    "    precision_history = [(x - mu).T @ A @ (x - mu) - f_star]\n",
    "\n",
    "    while iterations < max_iters:\n",
    "\n",
    "        grad = quadform_grad(A, x, mu)\n",
    "        x_new = project_to_constraint(x - lr / (iterations + 1) * grad)\n",
    "        f_val = (x_new - mu).T @ A @ (x_new - mu)\n",
    "\n",
    "        x = x_new\n",
    "        iterations += 1\n",
    "\n",
    "        precision_history.append(abs(f_val - f_star))\n",
    "\n",
    "        if abs(f_val - f_star) <= eps:\n",
    "            break\n",
    "\n",
    "    if return_history:\n",
    "        return x_new, iterations, f_val, precision_history\n",
    "\n",
    "    return x_new, f_val, iterations, operations"
   ]
  },
  {
   "cell_type": "code",
   "execution_count": 18,
   "metadata": {},
   "outputs": [],
   "source": [
    "def str_cvx_sgd_solve_elipsoid(\n",
    "    A,\n",
    "    mu,\n",
    "    x_init,\n",
    "    f_star,\n",
    "    dim_sample_ratio=\"single\", # MAY BE FLOAT in (0, 1]\n",
    "    eps=0.01,\n",
    "    max_iters=10000,\n",
    "    return_history=False,\n",
    "):\n",
    "\n",
    "    n_dims = len(mu)\n",
    "\n",
    "    if dim_sample_ratio == \"single\":\n",
    "        m_dims = 1\n",
    "\n",
    "    else:\n",
    "        m_dims = int(dim_sample_ratio * n_dims)\n",
    "\n",
    "    dim_sample_ratio = m_dims/n_dims\n",
    "\n",
    "    alpha = np.min(np.linalg.eigvals(A * 2))\n",
    "\n",
    "    lr = 2 / (alpha*dim_sample_ratio)\n",
    "\n",
    "    x_new = x_init.copy()\n",
    "\n",
    "    iterations = 0\n",
    "    operations = 0\n",
    "\n",
    "    precision_history = [(x_new - mu).T @ A @ (x_new - mu) - f_star]\n",
    "\n",
    "    while iterations < max_iters:\n",
    "\n",
    "        step_lr = lr / (iterations + 1)\n",
    "\n",
    "        sampled_dims = np.random.choice(n_dims, size=m_dims, replace=False)\n",
    "\n",
    "        for i in sampled_dims:\n",
    "            x_new[i] -= step_lr * atom_quadform_grad(A, x_new, mu, i)\n",
    "\n",
    "        x_new = project_to_constraint(x_new)\n",
    "\n",
    "        f_val = (x_new - mu).T @ A @ (x_new - mu)\n",
    "\n",
    "        x = x_new\n",
    "        iterations += 1\n",
    "\n",
    "        precision_history.append(abs(f_val - f_star))\n",
    "\n",
    "        if abs(f_val - f_star) <= eps:\n",
    "            break\n",
    "\n",
    "    if return_history:\n",
    "        return x_new, iterations, f_val, precision_history\n",
    "\n",
    "    return x_new, f_val, iterations, operations"
   ]
  },
  {
   "cell_type": "code",
   "execution_count": 19,
   "metadata": {},
   "outputs": [],
   "source": [
    "def rand_elipsoids_sol_stats_gd(\n",
    "    n_dim: int = 2, n_samples: int = 100, n_init_states = 100, random_states: list = None, eps=0.01\n",
    "):\n",
    "    mu = np.ones(n_dim)\n",
    "\n",
    "    if random_states is None:\n",
    "        random_states = np.random.randint(0, 4294967295, size=n_samples)\n",
    "\n",
    "    affine_ops = [make_spd_matrix(n_dim, random_state=state) for state in random_states]\n",
    "    \n",
    "    cases = []\n",
    "\n",
    "    for i, A in enumerate(affine_ops):\n",
    "\n",
    "        solution = solve_elipsoid(A, mu)\n",
    "\n",
    "        eig_vigals = np.linalg.eigvals(A)\n",
    "        conditional_number = max(eig_vigals) / min(eig_vigals)\n",
    "\n",
    "\n",
    "        for _ in range(n_init_states):\n",
    "\n",
    "            x_init = project_to_constraint(np.random.randn(n_dim))\n",
    "            x_opt, f_val, iters, ops = str_cvx_gd_solve_elipsoid(A, mu, x_init, solution[-1], eps=eps)\n",
    "            \n",
    "            cases.append({\n",
    "                \"n_dims\": n_dim,\n",
    "                \"example_id\" : i,\n",
    "                \"conditional_number\": conditional_number,\n",
    "                \"Lipschitz_L\" : max(eig_vigals),\n",
    "                \"strong_convexity_alpha\": min(eig_vigals)*2,\n",
    "                \"is_kkt_optimal\": is_kkt_optimal(quadform_grad(A, x_opt, mu), constraint_grad(x_opt)),\n",
    "                \"solution_delta\": np.abs(solution[-1] - f_val),\n",
    "                \"iters\" : iters,\n",
    "                \"ops\" : ops\n",
    "            })\n",
    "\n",
    "    return pd.DataFrame.from_records(cases)"
   ]
  },
  {
   "cell_type": "code",
   "execution_count": 20,
   "metadata": {},
   "outputs": [],
   "source": [
    "def rand_elipsoids_sol_stats_sgd(\n",
    "    n_dim: int = 2, n_samples: int = 100, n_init_states = 100, dim_sample_ratio = \"single\",random_states: list = None, eps=0.01\n",
    "):\n",
    "    mu = np.ones(n_dim)\n",
    "\n",
    "    if random_states is None:\n",
    "        random_states = np.random.randint(0, 4294967295, size=n_samples)\n",
    "\n",
    "    affine_ops = [make_spd_matrix(n_dim, random_state=state) for state in random_states]\n",
    "    \n",
    "    cases = []\n",
    "\n",
    "    if dim_sample_ratio == \"single\":\n",
    "        m_dims = 1\n",
    "\n",
    "    else:\n",
    "        m_dims = int(dim_sample_ratio * n_dim)\n",
    "\n",
    "    for i, A in enumerate(affine_ops):\n",
    "\n",
    "        solution = solve_elipsoid(A, mu)\n",
    "\n",
    "        eig_vigals = np.linalg.eigvals(A)\n",
    "        conditional_number = max(eig_vigals) / min(eig_vigals)\n",
    "\n",
    "\n",
    "        for _ in range(n_init_states):\n",
    "\n",
    "            x_init = project_to_constraint(np.random.randn(n_dim))\n",
    "            x_opt, f_val, iters, ops = str_cvx_sgd_solve_elipsoid(A, mu, x_init, solution[-1], dim_sample_ratio, eps=eps)\n",
    "            \n",
    "\n",
    "            cases.append({\n",
    "                \"n_dims\": n_dim,\n",
    "                \"example_id\" : i,\n",
    "                \"conditional_number\": conditional_number,\n",
    "                \"Lipschitz_L\" : max(eig_vigals),\n",
    "                \"strong_convexity_alpha\": min(eig_vigals)*2,\n",
    "                \"is_kkt_optimal\": is_kkt_optimal(quadform_grad(A, x_opt, mu), constraint_grad(x_opt)),\n",
    "                \"solution_delta\": np.abs(solution[-1] - f_val),\n",
    "                \"iters\" : iters,\n",
    "                \"ops\" : ops,\n",
    "                \"m_dims\": m_dims\n",
    "            })\n",
    "\n",
    "    return pd.DataFrame.from_records(cases)"
   ]
  },
  {
   "cell_type": "code",
   "execution_count": 21,
   "metadata": {},
   "outputs": [],
   "source": [
    "def make_gd_full_stats(n_dims = None):\n",
    "\n",
    "    if n_dims is None:\n",
    "        n_dims = range(10, 110, 10)\n",
    "\n",
    "    df_l = []\n",
    "\n",
    "    for n in n_dims:\n",
    "        df_l.append(rand_elipsoids_sol_stats_gd(n))\n",
    "\n",
    "    return pd.concat(df_l)"
   ]
  },
  {
   "cell_type": "code",
   "execution_count": 22,
   "metadata": {},
   "outputs": [],
   "source": [
    "def make_sgd_full_stats(n_dims = None, m_ratios = None):\n",
    "\n",
    "    if n_dims is None:\n",
    "        n_dims = range(10, 110, 10)\n",
    "\n",
    "    if m_ratios is None:\n",
    "        m_ratios = [\"single\", 1/8, 1/4, 1/2, 1]\n",
    "\n",
    "    df_l = []\n",
    "\n",
    "    for n in n_dims:\n",
    "        for r in m_ratios:\n",
    "            df_l.append(rand_elipsoids_sol_stats_sgd(n_dim=n, dim_sample_ratio=r))\n",
    "\n",
    "    return pd.concat(df_l)"
   ]
  },
  {
   "cell_type": "code",
   "execution_count": null,
   "metadata": {},
   "outputs": [
    {
     "name": "stderr",
     "output_type": "stream",
     "text": [
      "/tmp/ipykernel_96920/500574092.py:24: RuntimeWarning: divide by zero encountered in scalar divide\n",
      "  lr = 2 / (alpha*dim_sample_ratio)\n"
     ]
    }
   ],
   "source": [
    "gd_stats = make_gd_full_stats([2, 4])\n",
    "sgd_stats = make_sgd_full_stats([2, 4])"
   ]
  },
  {
   "cell_type": "code",
   "execution_count": null,
   "metadata": {},
   "outputs": [],
   "source": [
    "gd_stats"
   ]
  },
  {
   "cell_type": "code",
   "execution_count": null,
   "metadata": {},
   "outputs": [],
   "source": [
    "sgd_stats"
   ]
  },
  {
   "cell_type": "code",
   "execution_count": null,
   "metadata": {},
   "outputs": [],
   "source": []
  }
 ],
 "metadata": {
  "kernelspec": {
   "display_name": ".venv",
   "language": "python",
   "name": "python3"
  },
  "language_info": {
   "codemirror_mode": {
    "name": "ipython",
    "version": 3
   },
   "file_extension": ".py",
   "mimetype": "text/x-python",
   "name": "python",
   "nbconvert_exporter": "python",
   "pygments_lexer": "ipython3",
   "version": "3.12.3"
  }
 },
 "nbformat": 4,
 "nbformat_minor": 2
}
